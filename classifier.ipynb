{
 "cells": [
  {
   "cell_type": "markdown",
   "metadata": {},
   "source": [
    "# Implementation of variational classifier with Qiskit\n",
    "\n",
    "We attempt to classify the adhoc dataset from Qiskit's machine learning datasets by designing a quantum circuit"
   ]
  },
  {
   "cell_type": "markdown",
   "metadata": {},
   "source": [
    "1. Randomly sample data into two set for training and testing. We select datapoints of 2 features from each class."
   ]
  },
  {
   "cell_type": "code",
   "execution_count": 1,
   "metadata": {},
   "outputs": [],
   "source": [
    "from qiskit.utils import algorithm_globals\n",
    "algorithm_globals.random_seed = 3142\n",
    "\n",
    "import numpy as np\n",
    "np.random.seed(algorithm_globals.random_seed)\n",
    "\n",
    "from qiskit_machine_learning.datasets import ad_hoc_data\n",
    "\n",
    "train_data, train_labels, test_data, test_labels= (\n",
    "    ad_hoc_data(training_size=20, test_size=5, n=2, gap=0.3, one_hot=False))"
   ]
  },
  {
   "cell_type": "markdown",
   "metadata": {},
   "source": [
    "2. Create a data encoding circuit with Qiskit's ZZ FeatureMap as data encoding circuit."
   ]
  },
  {
   "cell_type": "code",
   "execution_count": 2,
   "metadata": {},
   "outputs": [],
   "source": [
    "from qiskit.circuit.library import ZZFeatureMap \n",
    "\n",
    "enc_circuit = ZZFeatureMap(feature_dimension=2, reps=2)"
   ]
  },
  {
   "cell_type": "markdown",
   "metadata": {},
   "source": [
    "3. Create a variational circuit with Qiskit's TwoLocal circuit with Y and Z rotations with controlled phase gates."
   ]
  },
  {
   "cell_type": "code",
   "execution_count": 3,
   "metadata": {},
   "outputs": [],
   "source": [
    "from qiskit.circuit.library import TwoLocal\n",
    "\n",
    "var_circuit = TwoLocal(2, ['ry', 'rz'], 'cz', reps=2)"
   ]
  },
  {
   "cell_type": "markdown",
   "metadata": {},
   "source": [
    "4. Combine the two circuits to obtain the final circuit."
   ]
  },
  {
   "cell_type": "code",
   "execution_count": 4,
   "metadata": {},
   "outputs": [
    {
     "data": {
      "image/png": "[encoded data removed]",
      "text/plain": [
       "<Figure size 1621.88x204.68 with 1 Axes>"
      ]
     },
     "execution_count": 4,
     "metadata": {},
     "output_type": "execute_result"
    }
   ],
   "source": [
    "circuit = enc_circuit.compose(var_circuit)\n",
    "circuit.measure_all()\n",
    "circuit.decompose().draw(output='mpl')"
   ]
  },
  {
   "cell_type": "markdown",
   "metadata": {},
   "source": [
    "5. Create the following functions:\n",
    "    1. `circuit_parameters` associates data to feature map and varaitional parameters to varaitional circuit.\n",
    "    2. `assign_label` assigns lable to a data point based on its bit string.\n",
    "    3. `label_probability` returns the probability distribution over the label 0,1."
   ]
  },
  {
   "cell_type": "code",
   "execution_count": 5,
   "metadata": {},
   "outputs": [],
   "source": [
    "def circuit_parameters(data, variational):\n",
    "    parameters = {}\n",
    "    for i, p in enumerate(enc_circuit.ordered_parameters):\n",
    "        parameters[p] = data[i]\n",
    "    for i, p in enumerate(var_circuit.ordered_parameters):\n",
    "        parameters[p] = variational[i]\n",
    "    return parameters\n",
    "\n",
    "def assign_label(bitstring):\n",
    "    parity_sum = sum([int(k) for k in list(bitstring)])\n",
    "    if parity_sum % 2:\n",
    "        return 0\n",
    "    else:\n",
    "        return 1\n",
    "\n",
    "def label_probability(results):\n",
    "    shots = sum(results.values())\n",
    "    probabilities = {0: 0, 1: 0}\n",
    "    for bitstring, counts in results.items():\n",
    "        label = assign_label(bitstring)\n",
    "        probabilities[label] += counts / shots\n",
    "    return probabilities"
   ]
  },
  {
   "cell_type": "markdown",
   "metadata": {},
   "source": [
    "6. Create a function that classsifies a data point."
   ]
  },
  {
   "cell_type": "code",
   "execution_count": 6,
   "metadata": {},
   "outputs": [],
   "source": [
    "from qiskit import BasicAer, execute\n",
    "\n",
    "def classification_probability(data, variational):\n",
    "    circuits = [circuit.assign_parameters(circuit_parameters(d,variational)) for d in data]\n",
    "    backend = BasicAer.get_backend('qasm_simulator')\n",
    "    results =  execute(circuits, backend).result()\n",
    "\n",
    "    classification = [label_probability(results.get_counts(c)) for c in circuits]\n",
    "    return classification"
   ]
  },
  {
   "cell_type": "markdown",
   "metadata": {},
   "source": [
    "7. Create loss and cost functions for training data"
   ]
  },
  {
   "cell_type": "code",
   "execution_count": 7,
   "metadata": {},
   "outputs": [],
   "source": [
    "def cross_entropy_loss(predictions, expected):\n",
    "    p = predictions.get(expected)\n",
    "    return -(expected*np.log(p)+(1-expected)*np.log(1-p))\n",
    "   \n",
    "def cost_function(data, labels, variational):\n",
    "    classifications = classification_probability(data, variational)\n",
    "\n",
    "    cost = 0\n",
    "    for i, classification in enumerate(classifications):\n",
    "        cost += cross_entropy_loss(classification, labels[i])\n",
    "    cost /= len(data)\n",
    "\n",
    "    return cost"
   ]
  },
  {
   "cell_type": "markdown",
   "metadata": {},
   "source": [
    "8. Use SPSA as out classical optimizer and train the model."
   ]
  },
  {
   "cell_type": "code",
   "execution_count": 8,
   "metadata": {},
   "outputs": [],
   "source": [
    "def store_intermediate_result(evaluation, parameter, cost, \n",
    "                              stepsize, accept):\n",
    "    evaluations.append(evaluation)\n",
    "    parameters.append(parameter)\n",
    "    costs.append(cost)\n",
    "\n",
    "from qiskit.algorithms.optimizers import SPSA\n",
    "\n",
    "parameters = []\n",
    "costs = []\n",
    "evaluations = []\n",
    "\n",
    "optimizer = SPSA(maxiter=100, callback=store_intermediate_result)\n",
    "\n",
    "initial_point = np.random.random(var_circuit.num_parameters)\n",
    "\n",
    "objective_function = lambda variational: cost_function(train_data,\n",
    "                                                       train_labels,\n",
    "                                                       variational)\n",
    "\n",
    "opt_var, opt_value, _ = optimizer.optimize(len(initial_point), objective_function, initial_point=initial_point)"
   ]
  },
  {
   "cell_type": "markdown",
   "metadata": {},
   "source": [
    "9. Plot the graph of cost vs iterations."
   ]
  },
  {
   "cell_type": "code",
   "execution_count": 9,
   "metadata": {},
   "outputs": [
    {
     "data": {
      "image/png": "[encoded data removed]",
      "text/plain": [
       "<Figure size 432x288 with 1 Axes>"
      ]
     },
     "metadata": {
      "needs_background": "light"
     },
     "output_type": "display_data"
    }
   ],
   "source": [
    "import matplotlib.pyplot as plt\n",
    "\n",
    "fig = plt.figure()\n",
    "plt.plot(evaluations, costs)\n",
    "plt.xlabel('Steps')\n",
    "plt.ylabel('Cost')\n",
    "plt.show()"
   ]
  }
 ],
 "metadata": {
  "interpreter": {
   "hash": "767d51c1340bd893661ea55ea3124f6de3c7a262a8b4abca0554b478b1e2ff90"
  },
  "kernelspec": {
   "display_name": "Python 3 (ipykernel)",
   "language": "python",
   "name": "python3"
  },
  "language_info": {
   "codemirror_mode": {
    "name": "ipython",
    "version": 3
   },
   "file_extension": ".py",
   "mimetype": "text/x-python",
   "name": "python",
   "nbconvert_exporter": "python",
   "pygments_lexer": "ipython3",
   "version": "3.10.2"
  }
 },
 "nbformat": 4,
 "nbformat_minor": 2
}
